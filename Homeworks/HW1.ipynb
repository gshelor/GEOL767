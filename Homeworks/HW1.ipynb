{
 "cells": [
  {
   "cell_type": "markdown",
   "metadata": {},
   "source": [
    "# Homework #1\n",
    "Griffin Shelor\\\n",
    "8-9-2024\n"
   ]
  },
  {
   "cell_type": "code",
   "execution_count": 1,
   "metadata": {},
   "outputs": [],
   "source": [
    "### importing math\n",
    "import math"
   ]
  },
  {
   "cell_type": "markdown",
   "metadata": {},
   "source": [
    "### Question 1a\n",
    "The sun:"
   ]
  },
  {
   "cell_type": "code",
   "execution_count": 2,
   "metadata": {},
   "outputs": [
    {
     "name": "stdout",
     "output_type": "stream",
     "text": [
      "The wavelength for the max of the Planck curve on the surface of the sun is 0.50197898894018 micrometers.\n"
     ]
    }
   ],
   "source": [
    "### temp of \"surface\" of sun in celsius (per https://science.nasa.gov/sun/facts/): 5500 degrees celsius\n",
    "### converting celius to Kelvin\n",
    "SunTempK = 5500 + 273.15\n",
    "### calculating wavelength of max of Planck curve\n",
    "lambda_sun = 2898 / SunTempK\n",
    "print(f'The wavelength for the max of the Planck curve on the surface of the sun is {lambda_sun} micrometers.')"
   ]
  },
  {
   "cell_type": "markdown",
   "metadata": {},
   "source": [
    "Sahara Desert"
   ]
  },
  {
   "cell_type": "code",
   "execution_count": 3,
   "metadata": {},
   "outputs": [
    {
     "name": "stdout",
     "output_type": "stream",
     "text": [
      "The wavelength for the max of the Planck curve in the Sahara Desert is 9.254350950023952 micrometers.\n"
     ]
    }
   ],
   "source": [
    "### average summer temp of Sahara: 104 degrees Fahrenheit (per https://eartheclipse.com/science/geography/sahara-desert.html)\n",
    "### converting to Celsius, then Kelvin\n",
    "SaharaTempC = (104 - 32) * 5 / 9\n",
    "SaharaTempK = SaharaTempC + 273.15\n",
    "### calculating wavelength at max of Planck curve\n",
    "lambda_sahara = 2898 / SaharaTempK\n",
    "print(f'The wavelength for the max of the Planck curve in the Sahara Desert is {lambda_sahara} micrometers.')"
   ]
  },
  {
   "cell_type": "markdown",
   "metadata": {},
   "source": [
    "Antarctica"
   ]
  },
  {
   "cell_type": "code",
   "execution_count": 4,
   "metadata": {},
   "outputs": [
    {
     "name": "stdout",
     "output_type": "stream",
     "text": [
      "The wavelength for the max of the Planck curve in Antarctica is 512.9203539823029 micrometers.\n"
     ]
    }
   ],
   "source": [
    "### average July (winter season) temp for south pole in Antarctica (per https://www.timeanddate.com/weather/antarctica/south-pole/climate): -75 Fahrenheit\n",
    "### converting temp to celsius, then Kelvin\n",
    "AntarcticaTempC = (-75 - 32) * 5 / 2\n",
    "AntarcticaTempK = AntarcticaTempC + 273.15\n",
    "### calculating wavelength at max of Planck curve\n",
    "lambda_ant = 2898 / AntarcticaTempK\n",
    "print(f'The wavelength for the max of the Planck curve in Antarctica is {lambda_ant} micrometers.')"
   ]
  },
  {
   "cell_type": "markdown",
   "metadata": {},
   "source": [
    "Forest Fire"
   ]
  },
  {
   "cell_type": "code",
   "execution_count": 5,
   "metadata": {},
   "outputs": [
    {
     "name": "stdout",
     "output_type": "stream",
     "text": [
      "The wavelength for the max of the Planck curve in an average-ish forest fire is 2.2762439618269643 micrometers.\n"
     ]
    }
   ],
   "source": [
    "### average temp of forest fire (per https://wildfiretoday.com/2011/02/26/at-what-temperature-does-a-forest-fire-burn/): 800-1200 degrees celsius\n",
    "### I'll use 1000\n",
    "### converting from celsius to Kelvin\n",
    "FireTempK = 1000 + 273.15\n",
    "### calculating wavelength at max of Planck curve\n",
    "lambda_fire = 2898 / FireTempK\n",
    "print(f'The wavelength for the max of the Planck curve in an average-ish forest fire is {lambda_fire} micrometers.')"
   ]
  },
  {
   "cell_type": "markdown",
   "metadata": {},
   "source": [
    "### Question 1B"
   ]
  },
  {
   "cell_type": "code",
   "execution_count": 7,
   "metadata": {},
   "outputs": [
    {
     "name": "stdout",
     "output_type": "stream",
     "text": [
      "The peak radiant exitence for the sun's lambda is 8.215501545825148e-05 W m^-2 µm^-1.\n",
      "The peak radiant exitence for the Sahara's lambda is 3.857731113206299e-11 W m^-2 µm^-1.\n",
      "The peak radiant exitence for Antarctica's lambda is 7.375850621126272e-20 W m^-2 µm^-1.\n",
      "The peak radiant exitence for the average forest fire's lambda is 4.28516693745643e-08 W m^-2 µm^-1.\n"
     ]
    }
   ],
   "source": [
    "### Calculating peak radiant exitence for each of the above lambdas\n",
    "### using M = (2pihc^2) / (lambda^5 * (e^(hc/lambda*K*T) - 1))\n",
    "### setting constants first\n",
    "## speed of light in micrometers/second\n",
    "c = 3.0 * 10**14\n",
    "### Planck constant\n",
    "h = 6.626 * 10**-34\n",
    "### Boltzman constant\n",
    "K = 1.38 * 10**-23\n",
    "\n",
    "### Calculating peak value of radiant exitence in W/m^2/micrometer\n",
    "M_sun = (2 * math.pi * h * (c**2)) / (lambda_sun**5 * (math.e**((h*c) / (lambda_sun * K * SunTempK)) - 1))\n",
    "M_sahara = (2 * math.pi * h * (c**2)) / (lambda_sahara**5 * (math.e**((h*c) / (lambda_sahara * K * SaharaTempK)) - 1))\n",
    "M_ant = (2 * math.pi * h * (c**2)) / (lambda_ant**5 * (math.e**((h*c) / (lambda_ant * K * AntarcticaTempK)) - 1))\n",
    "M_fire = (2 * math.pi * h * (c**2)) / (lambda_fire**5 * (math.e**((h*c) / (lambda_fire* K * FireTempK)) - 1))\n",
    "\n",
    "print(f'The peak radiant exitence for the sun\\'s lambda is {M_sun} W m^-2 µm^-1.')\n",
    "print(f'The peak radiant exitence for the Sahara\\'s lambda is {M_sahara} W m^-2 µm^-1.')\n",
    "print(f'The peak radiant exitence for Antarctica\\'s lambda is {M_ant} W m^-2 µm^-1.')\n",
    "print(f'The peak radiant exitence for the average forest fire\\'s lambda is {M_fire} W m^-2 µm^-1.')"
   ]
  },
  {
   "cell_type": "markdown",
   "metadata": {},
   "source": [
    "### Question 1C"
   ]
  },
  {
   "cell_type": "code",
   "execution_count": null,
   "metadata": {},
   "outputs": [],
   "source": []
  },
  {
   "cell_type": "markdown",
   "metadata": {},
   "source": [
    "### Question 2"
   ]
  },
  {
   "cell_type": "code",
   "execution_count": 12,
   "metadata": {},
   "outputs": [
    {
     "name": "stdout",
     "output_type": "stream",
     "text": [
      "There are 111000000 pixels of infrared bands in one Landsat scene.\n",
      "There are 6414024000000 pixels of infrared bands across the entire globe.\n"
     ]
    }
   ],
   "source": [
    "### 3 landsat bands for near infrared and shortwave infrared\n",
    "### converting the width and length of a landsat scene per question from km to m so that I can get m^2 for an entire landsat scene\n",
    "landsat_width_m = 185 * 1000\n",
    "landsat_height_m = 180 * 1000\n",
    "landsat_area_m2 = landsat_height_m * landsat_width_m\n",
    "landsat_pixel_area = 30 * 30\n",
    "landsat_pixels_per_scene = landsat_area_m2 / landsat_pixel_area\n",
    "landsat_IR_pixels_per_scene = int(3 * landsat_pixels_per_scene)\n",
    "\n",
    "### calculating pixels in NIR and SWIR for entire globs\n",
    "## 57,784 scenes in entire globe\n",
    "landsat_IR_pixels = int(3 * landsat_pixels_per_scene * 57784)\n",
    "\n",
    "### calculating # of bytes\n",
    "\n",
    "\n",
    "### printing answers\n",
    "print(f'There are {landsat_IR_pixels_per_scene} pixels of infrared bands in one Landsat scene.')\n",
    "print(f'There are {landsat_IR_pixels} pixels of infrared bands across the entire globe.')"
   ]
  },
  {
   "cell_type": "markdown",
   "metadata": {},
   "source": [
    "### Question 3\n",
    "\n",
    "For my project I shall make Russell Wilson's career... DISAPPEAR"
   ]
  }
 ],
 "metadata": {
  "kernelspec": {
   "display_name": "snowthesis",
   "language": "python",
   "name": "python3"
  },
  "language_info": {
   "codemirror_mode": {
    "name": "ipython",
    "version": 3
   },
   "file_extension": ".py",
   "mimetype": "text/x-python",
   "name": "python",
   "nbconvert_exporter": "python",
   "pygments_lexer": "ipython3",
   "version": "3.12.4"
  }
 },
 "nbformat": 4,
 "nbformat_minor": 2
}
