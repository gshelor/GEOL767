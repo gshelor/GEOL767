{
 "cells": [
  {
   "cell_type": "markdown",
   "metadata": {},
   "source": [
    "Griffin Shelor\\\n",
    "17-9-2024\n",
    "\n",
    "# Homework 2"
   ]
  },
  {
   "cell_type": "code",
   "execution_count": 2,
   "metadata": {},
   "outputs": [],
   "source": [
    "import math"
   ]
  },
  {
   "cell_type": "markdown",
   "metadata": {},
   "source": [
    "## Question 1"
   ]
  },
  {
   "cell_type": "code",
   "execution_count": 9,
   "metadata": {},
   "outputs": [
    {
     "name": "stdout",
     "output_type": "stream",
     "text": [
      "The Ground Instantaneous Field of View is 2.2 meters\n",
      "The swath is 281.6 meters\n"
     ]
    }
   ],
   "source": [
    "### GIFOV = 2H * tan(b/2) where H is sensor height and b = IFOV in radians\n",
    "q1_b = 1.1 / 1000\n",
    "q1_H = 2 * 1000\n",
    "q1_GIFOV = 2*q1_H * math.tan(q1_b/2)\n",
    "### swath = GIFOV * # of detectors\n",
    "q1_swath = q1_GIFOV * 128\n",
    "print(f'The Ground Instantaneous Field of View is {round(q1_GIFOV, 1)} meters')\n",
    "print(f'The swath is {round(q1_swath, 1)} meters')\n"
   ]
  },
  {
   "cell_type": "markdown",
   "metadata": {},
   "source": [
    "## Question 2"
   ]
  },
  {
   "cell_type": "code",
   "execution_count": 27,
   "metadata": {},
   "outputs": [
    {
     "name": "stdout",
     "output_type": "stream",
     "text": [
      "The height necessary to get a GIFOV of 4 cm is 50.0 meters.\n",
      "The swath was 25.6 meters.\n"
     ]
    }
   ],
   "source": [
    "### converting GIFOV to meters\n",
    "q2_GIFOV = 4 / 100\n",
    "### converting IFOV to radians\n",
    "q2_b = 0.8 / 1000\n",
    "\n",
    "### calculating height necessary to get GIFOV\n",
    "q2_H = q2_GIFOV / (2 * math.tan(q2_b / 2))\n",
    "\n",
    "### calculating swath\n",
    "q2_swath = q2_GIFOV * 640\n",
    "\n",
    "print(f'The height necessary to get a GIFOV of 4 cm is {round(q2_H, 1)} meters.')\n",
    "print(f'The swath was {q2_swath} meters.')"
   ]
  },
  {
   "cell_type": "markdown",
   "metadata": {},
   "source": [
    "## Question 3"
   ]
  },
  {
   "cell_type": "markdown",
   "metadata": {},
   "source": [
    "![picture of possible study area](AvirisNGStudyArea.png)\n",
    "\n",
    "\\\n",
    "In class so far we have discussed that there are absorption features for water in its various matter states. I believe this means that there are absorption features I could rely on to at least distinguish between snow and non-snow pixels. Differences in reflectance values can be used to calculate grain size, which can be used in combination with topography data to potentially estimate SWE."
   ]
  },
  {
   "cell_type": "markdown",
   "metadata": {},
   "source": [
    "## Question 4"
   ]
  },
  {
   "cell_type": "markdown",
   "metadata": {},
   "source": [
    "Given snow water equivalent's (SWE) importance to climate as well as the water cycle, being able to apply remote sensing methods to directly estimate SWE would obviously be of great benefit to water resource managers and society at large. However, optical methods in the literature I have found typically do not estimate SWE directly. Some have used fractional snow covered area in combination with in situ measurements, but optical and infrared remote sensing has largely made the most progress in identifying a relationship between reflectance and grain size. AVIRIS-NG data has previously been utilized to achieve lower uncertainty ranges in grain size, particularly with smaller grains (Bohn et al 2021). A research question that thus far seems to be unanswered is how I can connect this improvement in modeling the relationship between reflectance and grain size to estimating SWE. Radar technologies have recently shown progress with regards to SWE retrieval (Tsang et al 2021). Unfortunately data collected using the wavelengths most relevant to this progress are not yet widely accessible and also not within the scope of this class, which focuses on optical and infrared remote sensing.\n",
    "\n",
    "References\n",
    "\n",
    "Bohn, N., Painter, T. H., Thompson, D. R., Carmon, N., Susiluoto, J., Turmon, M. J., Helmlinger, M. C., Green, R. O., Cook, J. M., & Guanter, L. (2021). Optimal estimation of snow and ice surface parameters from imaging spectroscopy measurements. Remote Sensing of Environment, 264, 112613. https://doi.org/10.1016/j.rse.2021.112613\n",
    "\n",
    "Tsang, L., Durand, M., Derksen, C., Barros, A. P., Kang, D.-H., Lievens, H., Marshall, H.-P., Zhu, J., Johnson, J., King, J., Lemmetyinen, J., Sandells, M., Rutter, N., Siqueira, P., Nolin, A., Osmanoglu, B., Vuyovich, C., Kim, E., Taylor, D., … Xu, X. (2022). Review article: Global monitoring of snow water equivalent using high-frequency radar remote sensing. The Cryosphere, 16(9), 3531–3573. https://doi.org/10.5194/tc-16-3531-2022"
   ]
  }
 ],
 "metadata": {
  "kernelspec": {
   "display_name": "snowthesis",
   "language": "python",
   "name": "python3"
  },
  "language_info": {
   "codemirror_mode": {
    "name": "ipython",
    "version": 3
   },
   "file_extension": ".py",
   "mimetype": "text/x-python",
   "name": "python",
   "nbconvert_exporter": "python",
   "pygments_lexer": "ipython3",
   "version": "3.12.4"
  }
 },
 "nbformat": 4,
 "nbformat_minor": 2
}
