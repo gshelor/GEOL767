{
 "cells": [
  {
   "cell_type": "markdown",
   "metadata": {},
   "source": [
    "# Homework #1\n",
    "Griffin Shelor\\\n",
    "8-9-2024\n"
   ]
  },
  {
   "cell_type": "code",
   "execution_count": 1,
   "metadata": {},
   "outputs": [],
   "source": [
    "### importing math\n",
    "import math"
   ]
  },
  {
   "cell_type": "markdown",
   "metadata": {},
   "source": [
    "### Question 1a\n",
    "The sun:"
   ]
  },
  {
   "cell_type": "code",
   "execution_count": 2,
   "metadata": {},
   "outputs": [
    {
     "name": "stdout",
     "output_type": "stream",
     "text": [
      "The wavelength for the max of the Planck curve on the surface of the sun is 0.50197898894018 micrometers.\n"
     ]
    }
   ],
   "source": [
    "### temp of \"surface\" of sun in celsius (per https://science.nasa.gov/sun/facts/): 5500 degrees celsius\n",
    "### converting celius to Kelvin\n",
    "SunTempK = 5500 + 273.15\n",
    "### calculating wavelength of max of Planck curve\n",
    "lambda_sun = 2898 / SunTempK\n",
    "print(f'The wavelength for the max of the Planck curve on the surface of the sun is {lambda_sun} micrometers.')"
   ]
  },
  {
   "cell_type": "markdown",
   "metadata": {},
   "source": [
    "Sahara Desert"
   ]
  },
  {
   "cell_type": "code",
   "execution_count": 3,
   "metadata": {},
   "outputs": [
    {
     "name": "stdout",
     "output_type": "stream",
     "text": [
      "The wavelength for the max of the Planck curve in the Sahara Desert is 9.254350950023952 micrometers.\n"
     ]
    }
   ],
   "source": [
    "### average summer temp of Sahara: 104 degrees Fahrenheit (per https://eartheclipse.com/science/geography/sahara-desert.html)\n",
    "### converting to Celsius, then Kelvin\n",
    "SaharaTempC = (104 - 32) * 5 / 9\n",
    "SaharaTempK = SaharaTempC + 273.15\n",
    "### calculating wavelength at max of Planck curve\n",
    "lambda_sahara = 2898 / SaharaTempK\n",
    "print(f'The wavelength for the max of the Planck curve in the Sahara Desert is {lambda_sahara} micrometers.')"
   ]
  },
  {
   "cell_type": "markdown",
   "metadata": {},
   "source": [
    "Antarctica"
   ]
  },
  {
   "cell_type": "code",
   "execution_count": 4,
   "metadata": {},
   "outputs": [
    {
     "name": "stdout",
     "output_type": "stream",
     "text": [
      "The wavelength for the max of the Planck curve in Antarctica is 13.560714378558247 micrometers.\n"
     ]
    }
   ],
   "source": [
    "### average July (winter season) temp for south pole in Antarctica (per https://www.timeanddate.com/weather/antarctica/south-pole/climate): -75 Fahrenheit\n",
    "### converting temp to celsius, then Kelvin\n",
    "AntarcticaTempC = (-75 - 32) * 5 / 9\n",
    "AntarcticaTempK = AntarcticaTempC + 273.15\n",
    "### calculating wavelength at max of Planck curve\n",
    "lambda_ant = 2898 / AntarcticaTempK\n",
    "print(f'The wavelength for the max of the Planck curve in Antarctica is {lambda_ant} micrometers.')"
   ]
  },
  {
   "cell_type": "markdown",
   "metadata": {},
   "source": [
    "Forest Fire"
   ]
  },
  {
   "cell_type": "code",
   "execution_count": 5,
   "metadata": {},
   "outputs": [
    {
     "name": "stdout",
     "output_type": "stream",
     "text": [
      "The wavelength for the max of the Planck curve in an average-ish forest fire is 2.2762439618269643 micrometers.\n"
     ]
    }
   ],
   "source": [
    "### average temp of forest fire (per https://wildfiretoday.com/2011/02/26/at-what-temperature-does-a-forest-fire-burn/): 800-1200 degrees celsius\n",
    "### I'll use 1000\n",
    "### converting from celsius to Kelvin\n",
    "FireTempK = 1000 + 273.15\n",
    "### calculating wavelength at max of Planck curve\n",
    "lambda_fire = 2898 / FireTempK\n",
    "print(f'The wavelength for the max of the Planck curve in an average-ish forest fire is {lambda_fire} micrometers.')"
   ]
  },
  {
   "cell_type": "markdown",
   "metadata": {},
   "source": [
    "### Question 1B"
   ]
  },
  {
   "cell_type": "code",
   "execution_count": 6,
   "metadata": {},
   "outputs": [
    {
     "name": "stdout",
     "output_type": "stream",
     "text": [
      "The peak radiant exitence for the sun's lambda is 8.215502e+07 W m^-2 µm^-1.\n",
      "The peak radiant exitence for the Sahara's lambda is 3.857731e+01 W m^-2 µm^-1.\n",
      "The peak radiant exitence for Antarctica's lambda is 5.710169e+00 W m^-2 µm^-1.\n",
      "The peak radiant exitence for the average forest fire's lambda is 4.285167e+04 W m^-2 µm^-1.\n"
     ]
    }
   ],
   "source": [
    "### Calculating peak radiant exitence for each of the above lambdas\n",
    "### using M = (2pihc^2) / (lambda^5 * (e^(hc/lambda*K*T) - 1))\n",
    "### setting constants first\n",
    "## speed of light in m/second\n",
    "c = 3.0 * 10**8\n",
    "### Planck constant\n",
    "h = 6.626 * 10**-34\n",
    "### Boltzman constant\n",
    "K = 1.38 * 10**-23\n",
    "\n",
    "### converting lambdas to meters\n",
    "lambda_sun_m = lambda_sun / 10**6\n",
    "lambda_sahara_m = lambda_sahara / 10**6\n",
    "lambda_ant_m = lambda_ant / 10**6\n",
    "lambda_fire_m = lambda_fire / 10**6\n",
    "\n",
    "### top half of M equation is just a constant\n",
    "c1 = 2 * math.pi * h * (c**2)\n",
    "\n",
    "### Calculating peak value of radiant exitence in W/m^2/µm\n",
    "### dividing the values by 10^6 to convert meters back to µm\n",
    "M_sun = c1 / (lambda_sun_m**5 * (math.e**((h*c) / (lambda_sun_m * K * SunTempK)) - 1)) / 10**6\n",
    "M_sahara = c1 / (lambda_sahara_m**5 * (math.e**((h*c) / (lambda_sahara_m * K * SaharaTempK)) - 1)) / 10**6\n",
    "M_ant = c1 / (lambda_ant_m**5 * (math.e**((h*c) / (lambda_ant_m * K * AntarcticaTempK)) - 1)) / 10**6\n",
    "M_fire = c1 / (lambda_fire_m**5 * (math.e**((h*c) / (lambda_fire_m * K * FireTempK)) - 1)) / 10**6\n",
    "\n",
    "print(f'The peak radiant exitence for the sun\\'s lambda is {M_sun:e} W m^-2 µm^-1.')\n",
    "print(f'The peak radiant exitence for the Sahara\\'s lambda is {M_sahara:e} W m^-2 µm^-1.')\n",
    "print(f'The peak radiant exitence for Antarctica\\'s lambda is {M_ant:e} W m^-2 µm^-1.')\n",
    "print(f'The peak radiant exitence for the average forest fire\\'s lambda is {M_fire:e} W m^-2 µm^-1.')"
   ]
  },
  {
   "cell_type": "markdown",
   "metadata": {},
   "source": [
    "### Question 1C"
   ]
  },
  {
   "cell_type": "code",
   "execution_count": 7,
   "metadata": {},
   "outputs": [
    {
     "name": "stdout",
     "output_type": "stream",
     "text": [
      "The irradiance on the top of the atmosphere for the spectral radiant exitence calculated for the sun in 1B is 1776.7538631443806 W m^-2 µm^-1\n"
     ]
    }
   ],
   "source": [
    "### E_lambda = (M_lambda / pi) * ((pi * R^2) / D^2)\n",
    "### R = radius of the sun\n",
    "### D = distance between sun and Earth\n",
    "### setting R and D constants in micrometers\n",
    "R = 695700 * 10**14\n",
    "D = 149597870 * 10**14\n",
    "\n",
    "E_sun = (M_sun / math.pi) * ((math.pi * R**2) / D**2)\n",
    "print(f'The irradiance on the top of the atmosphere for the spectral radiant exitence calculated for the sun in 1B is {E_sun} W m^-2 µm^-1')"
   ]
  },
  {
   "cell_type": "markdown",
   "metadata": {},
   "source": [
    "### Question 2"
   ]
  },
  {
   "cell_type": "code",
   "execution_count": 8,
   "metadata": {},
   "outputs": [
    {
     "name": "stdout",
     "output_type": "stream",
     "text": [
      "There are 4.070000e+08 V/NIR/SWIR pixels in one Landsat scene.\n",
      "There are 2.351809e+13 V/NIR/SWIR Landsat pixels across the entire globe.\n",
      "There are 8.140000e+08 V/NIR/SWIR bytes in one Landsat scene.\n",
      "There are 4.703618e+13 V/NIR/SWIR bytes for Landsat across the entire globe.\n",
      "There are 2.442000e+10 bytes of VSWIR data in one SBG scene.\n"
     ]
    }
   ],
   "source": [
    "### 7 V/NIR/SWIR landsat bands\n",
    "### 1 panchromatic band, half the resolution (15m vs 30m)\n",
    "### assuming 4 panchromatic pixels per 30m pixel ((30 * 30) / (15 * 15) = 4)\n",
    "### therefore, multiplying number of pixels per scene by 11 (7+4) to get total number of pixels across 8 bands\n",
    "### converting the width and length of a landsat scene per question from km to m so that I can get area in m^2 for an entire landsat scene\n",
    "landsat_width_m = 185 * 1000\n",
    "landsat_height_m = 180 * 1000\n",
    "landsat_area_m2 = landsat_height_m * landsat_width_m\n",
    "landsat_pixel_area = 30 * 30\n",
    "landsat_pixels_per_scene = landsat_area_m2 / landsat_pixel_area\n",
    "landsat_VNIRSWIR_pixels_per_scene = int(11 * landsat_pixels_per_scene)\n",
    "\n",
    "### calculating pixels in NIR and SWIR for entire globs\n",
    "## 57,784 scenes in entire globe\n",
    "## 7 V/NIR/SWIR bands\n",
    "landsat_VNIRSWIR_pixels = int(11 * landsat_pixels_per_scene * 57784)\n",
    "\n",
    "### calculating # of bytes\n",
    "landsat_VNIRSWIR_bytes_per_scene = landsat_VNIRSWIR_pixels_per_scene * 2\n",
    "landsat_VNIRSWIR_bytes = landsat_VNIRSWIR_pixels * 2\n",
    "\n",
    "### bytes for SBG\n",
    "### already calculated bytes for 7 bands, just multiply the numbers by 30 to get 210 bands\n",
    "sbg_bytes_scene = landsat_VNIRSWIR_bytes_per_scene * 30\n",
    "\n",
    "### printing answers\n",
    "print(f'There are {landsat_VNIRSWIR_pixels_per_scene:e} V/NIR/SWIR pixels in one Landsat scene.')\n",
    "print(f'There are {landsat_VNIRSWIR_pixels:e} V/NIR/SWIR Landsat pixels across the entire globe.')\n",
    "print(f'There are {landsat_VNIRSWIR_bytes_per_scene:e} V/NIR/SWIR bytes in one Landsat scene.')\n",
    "print(f'There are {landsat_VNIRSWIR_bytes:e} V/NIR/SWIR bytes for Landsat across the entire globe.')\n",
    "print(f'There are {sbg_bytes_scene:e} bytes of VSWIR data in one SBG scene.')"
   ]
  },
  {
   "cell_type": "markdown",
   "metadata": {},
   "source": [
    "### Question 3\n",
    "\n",
    "For my project, I am most interested in applying imaging spectroscopy data in some way which is applicable to Snow Water Equivalent (SWE). A possible example of a physical model could be one that attempts to model SWE based on surface reflectance data. Given my lack of remote sensing experience, I do not know whether a snow variable such as grain size could possibly be used as a proxy for SWE, since I know that grain size affects reflectance. If grain size is more relevant to snow albedo rather than SWE, perhaps there is some sort of reflectance data I could use to measure snow depth as a valid proxy for SWE. As I continue to explore possible ideas for my class project, landscape attributes that I am most interested are likely going to be grain size, snow depth, snow extent, and of course SWE."
   ]
  }
 ],
 "metadata": {
  "kernelspec": {
   "display_name": "snowthesis",
   "language": "python",
   "name": "python3"
  },
  "language_info": {
   "codemirror_mode": {
    "name": "ipython",
    "version": 3
   },
   "file_extension": ".py",
   "mimetype": "text/x-python",
   "name": "python",
   "nbconvert_exporter": "python",
   "pygments_lexer": "ipython3",
   "version": "3.12.4"
  }
 },
 "nbformat": 4,
 "nbformat_minor": 2
}
